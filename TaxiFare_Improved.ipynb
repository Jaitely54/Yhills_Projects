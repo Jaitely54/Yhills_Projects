{
 "cells": [
  {
   "cell_type": "code",
   "execution_count": null,
   "id": "d1931a1d",
   "metadata": {},
   "outputs": [],
   "source": [
    "\n",
    "import pandas as pd\n",
    "import numpy as np\n",
    "import matplotlib.pyplot as plt\n",
    "%matplotlib inline\n",
    "import seaborn as sns\n",
    "from sklearn.model_selection import train_test_split\n",
    "from sklearn.linear_model import LinearRegression\n",
    "from sklearn.tree import DecisionTreeRegressor\n",
    "from sklearn.ensemble import GradientBoostingRegressor\n",
    "from sklearn.ensemble import RandomForestRegressor\n",
    "from sklearn.metrics import mean_squared_error, mean_absolute_error\n"
   ]
  },
  {
   "cell_type": "code",
   "execution_count": null,
   "id": "790407ac",
   "metadata": {},
   "outputs": [],
   "source": [
    "\n",
    "# Assuming the dataset is in the same directory\n",
    "df = pd.read_csv('TaxiFare.csv')\n",
    "df.head()\n"
   ]
  },
  {
   "cell_type": "code",
   "execution_count": null,
   "id": "692d8e78",
   "metadata": {},
   "outputs": [],
   "source": [
    "\n",
    "# Exploratory Data Analysis\n",
    "# Checking for missing values\n",
    "print(df.isnull().sum())\n",
    "\n",
    "# Descriptive statistics\n",
    "print(df.describe())\n",
    "\n",
    "# Visualizing distributions of key variables\n",
    "sns.pairplot(df)\n",
    "plt.show()\n"
   ]
  },
  {
   "cell_type": "code",
   "execution_count": null,
   "id": "fa457283",
   "metadata": {},
   "outputs": [],
   "source": [
    "\n",
    "# Data Preprocessing\n",
    "# Feature Engineering (if needed)\n",
    "# Replace zeros in longitude and latitude with their means\n",
    "# ... Other preprocessing steps\n"
   ]
  },
  {
   "cell_type": "code",
   "execution_count": null,
   "id": "911bc270",
   "metadata": {},
   "outputs": [],
   "source": [
    "\n",
    "# Split the data into features (X) and target (Y)\n",
    "X = df.drop(columns=['amount'],axis=1)\n",
    "Y = df['amount']\n",
    "X_train, X_test, Y_train, Y_test = train_test_split(X, Y, test_size=0.2, random_state=2)\n"
   ]
  },
  {
   "cell_type": "code",
   "execution_count": null,
   "id": "3b797cd3",
   "metadata": {},
   "outputs": [],
   "source": [
    "\n",
    "# Model Training and Evaluation\n",
    "# Decision Tree Regressor\n",
    "model_1 = DecisionTreeRegressor()\n",
    "model_1.fit(X_train,Y_train)\n",
    "\n",
    "# Predictions and evaluation\n",
    "predictions_1 = model_1.predict(X_test)\n",
    "print('Decision Tree RMSE:', np.sqrt(mean_squared_error(Y_test, predictions_1)))\n",
    "print('Decision Tree MAE:', mean_absolute_error(Y_test, predictions_1))\n",
    "\n",
    "# Similarly, add cells for other models: Gradient Boosting, Random Forest, and Linear Regression\n"
   ]
  }
 ],
 "metadata": {
  "language_info": {
   "name": "python"
  }
 },
 "nbformat": 4,
 "nbformat_minor": 5
}
